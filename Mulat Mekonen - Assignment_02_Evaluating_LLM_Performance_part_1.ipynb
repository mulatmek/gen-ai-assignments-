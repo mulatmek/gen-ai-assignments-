{
 "cells": [
  {
   "cell_type": "markdown",
   "id": "cada8d85",
   "metadata": {},
   "source": [
    "# Assignment 2 – Evaluating LLM Output Quality"
   ]
  },
  {
   "cell_type": "markdown",
   "id": "8a334285",
   "metadata": {},
   "source": [
    "# Introduction to Large Language Models and Prompt Engineering\n",
    "\n",
    "**Course:** GenAI development and LLM applications\n",
    "\n",
    "\n",
    "**Instructors:** Ori Shapira, Yuval Belfer\n",
    "\n",
    "**Semester:** Summer\n",
    "    \n",
    "## Overview\n",
    "\n",
    "This assignment provides a **hands‑on** experince with the world of LLM based systems evaluation: from understanding the business use-case and defining evaluation criterias in light of it. To performing human evaluation and dealing with the hardships of \"non-objectivity\", trough experimenting with **JLMs** (Judge Language Models). \n",
    "\n",
    "Along the way you will explore the differnces between the two evaluation methods, thier advanteges and dis-advanteges and try to figure out how and when to use each further down your GenAI road.\n",
    "\n",
    "## Learning Objectives\n",
    "\n",
    "- **Define evaluation criteria** understand the importance of defining how to measure your system performance in a non closely defined problem.\n",
    "- **Compare** manual vs. automatic common methods.\n",
    "- **Drive improvement** through proper evaluation, documentation and change cycles.\n",
    "- **Design** usable automatic evaluation pipeline.\n",
    "\n",
    "## Prerequisites\n",
    "- Basic Python knowledge\n",
    "- Familiarity with Jupyter notebooks\n",
    "- Internet connection for API calls"
   ]
  },
  {
   "cell_type": "markdown",
   "id": "e24f3462",
   "metadata": {},
   "source": [
    "# Part 1 - Human evaluation"
   ]
  },
  {
   "cell_type": "markdown",
   "id": "ee74b55b",
   "metadata": {},
   "source": [
    "## 1  Setup"
   ]
  },
  {
   "cell_type": "code",
   "execution_count": 1,
   "id": "c1e10427",
   "metadata": {},
   "outputs": [
    {
     "name": "stdout",
     "output_type": "stream",
     "text": [
      "\u001b[31mERROR: pip's dependency resolver does not currently take into account all the packages that are installed. This behaviour is the source of the following dependency conflicts.\n",
      "gpt-index 0.6.4 requires requests<2.30.0, but you have requests 2.32.4 which is incompatible.\n",
      "langchain 0.0.244 requires langsmith<0.1.0,>=0.0.11, but you have langsmith 0.1.137 which is incompatible.\n",
      "langchain 0.0.244 requires pydantic<2,>=1, but you have pydantic 2.8.2 which is incompatible.\n",
      "langchain-community 0.0.20 requires langchain-core<0.2,>=0.1.21, but you have langchain-core 0.3.13 which is incompatible.\n",
      "langchain-community 0.0.20 requires langsmith<0.1,>=0.0.83, but you have langsmith 0.1.137 which is incompatible.\n",
      "spacy 3.6.0 requires pydantic!=1.8,!=1.8.1,<1.11.0,>=1.7.4, but you have pydantic 2.8.2 which is incompatible.\u001b[0m\u001b[31m\n",
      "\u001b[0m\n",
      "\u001b[1m[\u001b[0m\u001b[34;49mnotice\u001b[0m\u001b[1;39;49m]\u001b[0m\u001b[39;49m A new release of pip is available: \u001b[0m\u001b[31;49m23.3.1\u001b[0m\u001b[39;49m -> \u001b[0m\u001b[32;49m25.1.1\u001b[0m\n",
      "\u001b[1m[\u001b[0m\u001b[34;49mnotice\u001b[0m\u001b[1;39;49m]\u001b[0m\u001b[39;49m To update, run: \u001b[0m\u001b[32;49mpython3.9 -m pip install --upgrade pip\u001b[0m\n"
     ]
    }
   ],
   "source": [
    "!pip -q install --upgrade \"transformers[torch]\" datasets accelerate bitsandbytes --progress-bar off"
   ]
  },
  {
   "cell_type": "markdown",
   "id": "ef754d5c",
   "metadata": {},
   "source": [
    "## 2  Business use case – Generate Product Descriptions\n",
    "Many e‑commerce sites need engaging **product descriptions**. Given structured attributes (name, category, features, color, price), your model should craft a persuasive, 50‑90‑word description."
   ]
  },
  {
   "cell_type": "code",
   "execution_count": 3,
   "id": "a6debe35",
   "metadata": {},
   "outputs": [
    {
     "name": "stdout",
     "output_type": "stream",
     "text": [
      "Loaded 50 products\n"
     ]
    },
    {
     "data": {
      "text/html": [
       "<div>\n",
       "<style scoped>\n",
       "    .dataframe tbody tr th:only-of-type {\n",
       "        vertical-align: middle;\n",
       "    }\n",
       "\n",
       "    .dataframe tbody tr th {\n",
       "        vertical-align: top;\n",
       "    }\n",
       "\n",
       "    .dataframe thead th {\n",
       "        text-align: right;\n",
       "    }\n",
       "</style>\n",
       "<table border=\"1\" class=\"dataframe\">\n",
       "  <thead>\n",
       "    <tr style=\"text-align: right;\">\n",
       "      <th></th>\n",
       "      <th>product_name</th>\n",
       "      <th>Product_attribute_list</th>\n",
       "      <th>material</th>\n",
       "      <th>warranty</th>\n",
       "    </tr>\n",
       "  </thead>\n",
       "  <tbody>\n",
       "    <tr>\n",
       "      <th>0</th>\n",
       "      <td>Apple iPhone 15 Pro</td>\n",
       "      <td>features: A17 Pro chip, 120 Hz ProMotion displ...</td>\n",
       "      <td>titanium frame, Ceramic Shield glass</td>\n",
       "      <td>1‑year limited warranty</td>\n",
       "    </tr>\n",
       "    <tr>\n",
       "      <th>1</th>\n",
       "      <td>Samsung Galaxy S24 Ultra</td>\n",
       "      <td>features: 200 MP camera, S‑Pen support, 120 Hz...</td>\n",
       "      <td>Armor Aluminum frame, Gorilla Glass Victus</td>\n",
       "      <td>1‑year limited warranty</td>\n",
       "    </tr>\n",
       "    <tr>\n",
       "      <th>2</th>\n",
       "      <td>Google Pixel 8 Pro</td>\n",
       "      <td>features: Tensor G3 chip, Magic Eraser, 50 MP ...</td>\n",
       "      <td>matte glass back, aluminum frame</td>\n",
       "      <td>1‑year limited warranty</td>\n",
       "    </tr>\n",
       "    <tr>\n",
       "      <th>3</th>\n",
       "      <td>Sony WH‑1000XM5 Headphones</td>\n",
       "      <td>features: active noise cancelling, 30 hr batte...</td>\n",
       "      <td>synthetic leather earcups</td>\n",
       "      <td>1‑year limited warranty</td>\n",
       "    </tr>\n",
       "    <tr>\n",
       "      <th>4</th>\n",
       "      <td>Bose QuietComfort Ultra Earbuds</td>\n",
       "      <td>features: CustomTune sound calibration, ANC, I...</td>\n",
       "      <td>silicone ear tips</td>\n",
       "      <td>1‑year limited warranty</td>\n",
       "    </tr>\n",
       "  </tbody>\n",
       "</table>\n",
       "</div>"
      ],
      "text/plain": [
       "                      product_name  \\\n",
       "0              Apple iPhone 15 Pro   \n",
       "1         Samsung Galaxy S24 Ultra   \n",
       "2               Google Pixel 8 Pro   \n",
       "3       Sony WH‑1000XM5 Headphones   \n",
       "4  Bose QuietComfort Ultra Earbuds   \n",
       "\n",
       "                              Product_attribute_list  \\\n",
       "0  features: A17 Pro chip, 120 Hz ProMotion displ...   \n",
       "1  features: 200 MP camera, S‑Pen support, 120 Hz...   \n",
       "2  features: Tensor G3 chip, Magic Eraser, 50 MP ...   \n",
       "3  features: active noise cancelling, 30 hr batte...   \n",
       "4  features: CustomTune sound calibration, ANC, I...   \n",
       "\n",
       "                                     material                 warranty  \n",
       "0        titanium frame, Ceramic Shield glass  1‑year limited warranty  \n",
       "1  Armor Aluminum frame, Gorilla Glass Victus  1‑year limited warranty  \n",
       "2            matte glass back, aluminum frame  1‑year limited warranty  \n",
       "3                   synthetic leather earcups  1‑year limited warranty  \n",
       "4                           silicone ear tips  1‑year limited warranty  "
      ]
     },
     "execution_count": 3,
     "metadata": {},
     "output_type": "execute_result"
    }
   ],
   "source": [
    "# Load the product dataset\n",
    "import pandas as pd\n",
    "\n",
    "dataset_path = \"Assignment_02_product_dataset.csv\"  # ensure the file is uploaded\n",
    "df_products = pd.read_csv(dataset_path)\n",
    "print(f\"Loaded {len(df_products)} products\")\n",
    "df_products.head()"
   ]
  },
  {
   "cell_type": "markdown",
   "id": "149d4731",
   "metadata": {},
   "source": [
    "## 3  Evaluation criteria\n",
    "| Criterion | Description | Rating |\n",
    "|-----------|-------------|--------|\n",
    "| **Fluency** | Natural, easy‑to‑read sentences | good / ok / bad |\n",
    "| **Grammar** | Correct spelling & punctuation | good / ok / bad |\n",
    "| **Tone** | Matches friendly, credible sales voice | good / ok / bad |\n",
    "| **Length** | 50‑90 words | good / ok / bad |\n",
    "| **Grounding** | Sticks to provided attributes only | good / ok / bad |\n",
    "| **Latency** | Time to first byte / full response | good / ok / bad  (based on avg. time per call)|\n",
    "| **Cost** | Relative inference or API cost per 1K tokens | good / ok / bad (based on avg. price per cal)|\n",
    "\n",
    "**Define your rubric:**\n",
    "1. For each criterion, spell out what qualifies as **good**, **ok**, and **bad** to minimize subjectivity (e.g. for *Length*: good = 50‑90 words, ok = 40‑49 or 91‑110 words, bad = outside that range).\n",
    "2. Decide the **cumulative pass bar**—for instance, at least three *good* ratings and no *bad* ratings overall.\n",
    "3. Establish **go / no‑go rules**—e.g. if *Grounding* is *bad* the description is automatically rejected, regardless of other scores."
   ]
  },
  {
   "cell_type": "markdown",
   "id": "549ea603",
   "metadata": {},
   "source": [
    "## 4  Prompt\n",
    "\n",
    "💡 **Prompt‑engineering tip:**\n",
    "Feel free to iterate on the prompt to maximize output quality. You can:\n",
    "- Add a **system message** that defines writing style, brand voice, or formatting rules.\n",
    "- Provide **one or two high‑quality examples** (few‑shot) of attribute→description pairs.\n",
    "- Include explicit constraints (word count, tone adjectives, banned phrases).\n",
    "- Experiment with phrases like *\"Think step‑by‑step\"* or *\"First reason, then answer\"*.\n",
    "\n",
    "Document any changes you make and observe how they influence the evaluation scores."
   ]
  },
  {
   "cell_type": "code",
   "execution_count": 4,
   "id": "ebfeb600",
   "metadata": {},
   "outputs": [],
   "source": [
    "prompt_tmpl = (\n",
    "    \"You are a copywriter for an online store. Using the product attributes, \"\n",
    "    \"write an engaging product description (50–90 words).\\n\\n\"\n",
    "    \"Product name: {product_name}\\nFeatures: {Product_attribute_list}\\Material: {material}\\nWarranty: {warranty}\\n\\n\"\n",
    "    \"Description:\" \n",
    ")"
   ]
  },
  {
   "cell_type": "markdown",
   "id": "a920775e",
   "metadata": {},
   "source": [
    "## 5  Run a medium‑size model (≤ 30 B parameters)\n",
    "\n",
    "Choose **one or more** of the options below:\n",
    "\n",
    "**A. Hugging Face checkpoint** (local inference) – already configured in the code cell that follows.\n",
    "\n",
    "**B. OpenAI model** – call an OpenAI hosted model (e.g. `gpt‑4o`, `gpt‑4‑turbo`, `gpt‑3.5‑turbo`). Implement `call_openai(prompt: str) -> str` in a separate utility cell and then run the snippet.\n",
    "\n",
    "**C. Google Gemini model** – call a Gemini endpoint (e.g. `gemini‑1.5‑pro`). Implement `call_gemini(prompt: str) -> str` similarly.\n",
    "\n",
    "> ⚠️ Make sure you have your API keys set as environment variables or passed securely.\n",
    "\n",
    "\n",
    "**Latency & cost tracking**\n",
    "- Your `call_*` functions should return a **dict** with keys:\n",
    "  - `text` – generated description (string)\n",
    "  - `latency_ms` – end‑to‑end generation time in milliseconds\n",
    "  - `input_tokens` – tokens sent to the model (**IF YOU ADDED A SYS PROMPT ADD IT TO THE CALCULATION**)\n",
    "  - `output_tokens` – tokens received from the model\n",
    "- Below, a helper `call_hf()` shows how to compute these metrics for a Hugging Face model. You must add equivalent tracking inside `call_openai()` and `call_gemini()`.\n"
   ]
  },
  {
   "cell_type": "markdown",
   "id": "0689cc37",
   "metadata": {},
   "source": [
    "**FOR COLAB USERS**\n",
    "\n",
    "You can set your HF_TOKEN secret in Colab, please follow these steps:\n",
    "\n",
    "1. Click on the \"🔑\" icon in the left-hand sidebar in Colab. This opens the Secrets manager.\n",
    "2. Click on \"New secret\".\n",
    "3. In the \"Name\" field, type HF_TOKEN.\n",
    "4. In the \"Value\" field, paste your Hugging Face access token (you can generate one from your Hugging Face account settings under \"Access Tokens\").\n",
    "5. Make sure the \"Notebook access\" toggle is enabled for your notebook.\n",
    "6. Close the Secrets manager."
   ]
  },
  {
   "cell_type": "code",
   "execution_count": 5,
   "id": "1902bf46",
   "metadata": {},
   "outputs": [
    {
     "name": "stdout",
     "output_type": "stream",
     "text": [
      "YOUR_HF_TOKEN\n"
     ]
    }
   ],
   "source": [
    "# Set your Hugging Face access token\n",
    "import os\n",
    "os.environ[\"HF_TOKEN\"] = \"YOUR_HF_TOKEN\"\n",
    "print(os.environ.get(\"HF_TOKEN\"))"
   ]
  },
  {
   "cell_type": "code",
   "execution_count": 6,
   "id": "b73a9cb8",
   "metadata": {},
   "outputs": [
    {
     "ename": "AssertionError",
     "evalue": "Switch Colab to GPU first",
     "output_type": "error",
     "traceback": [
      "\u001b[0;31m---------------------------------------------------------------------------\u001b[0m",
      "\u001b[0;31mAssertionError\u001b[0m                            Traceback (most recent call last)",
      "Cell \u001b[0;32mIn [6], line 4\u001b[0m\n\u001b[1;32m      1\u001b[0m \u001b[38;5;28;01mimport\u001b[39;00m \u001b[38;5;21;01mtorch\u001b[39;00m\u001b[38;5;241m,\u001b[39m \u001b[38;5;21;01mos\u001b[39;00m\n\u001b[1;32m      2\u001b[0m \u001b[38;5;28;01mfrom\u001b[39;00m \u001b[38;5;21;01mtransformers\u001b[39;00m \u001b[38;5;28;01mimport\u001b[39;00m AutoTokenizer, AutoModelForCausalLM, pipeline, BitsAndBytesConfig\n\u001b[0;32m----> 4\u001b[0m \u001b[38;5;28;01massert\u001b[39;00m torch\u001b[38;5;241m.\u001b[39mcuda\u001b[38;5;241m.\u001b[39mis_available(), \u001b[38;5;124m\"\u001b[39m\u001b[38;5;124mSwitch Colab to GPU first\u001b[39m\u001b[38;5;124m\"\u001b[39m\n\u001b[1;32m      6\u001b[0m model_id \u001b[38;5;241m=\u001b[39m \u001b[38;5;124m\"\u001b[39m\u001b[38;5;124mmistralai/Mistral-7B-Instruct-v0.3\u001b[39m\u001b[38;5;124m\"\u001b[39m\n\u001b[1;32m      8\u001b[0m bnb \u001b[38;5;241m=\u001b[39m BitsAndBytesConfig(load_in_4bit\u001b[38;5;241m=\u001b[39m\u001b[38;5;28;01mTrue\u001b[39;00m)\n",
      "\u001b[0;31mAssertionError\u001b[0m: Switch Colab to GPU first"
     ]
    }
   ],
   "source": [
    "import torch, os\n",
    "from transformers import AutoTokenizer, AutoModelForCausalLM, pipeline, BitsAndBytesConfig\n",
    "\n",
    "assert torch.cuda.is_available(), \"Switch Colab to GPU first\"\n",
    "\n",
    "model_id = \"mistralai/Mistral-7B-Instruct-v0.3\"\n",
    "\n",
    "bnb = BitsAndBytesConfig(load_in_4bit=True)\n",
    "\n",
    "# this will work with L4 GPU, if you have a different GPU, you may need to modify the code\n",
    "hf_model = AutoModelForCausalLM.from_pretrained(\n",
    "    model_id,\n",
    "    torch_dtype=torch.float16,\n",
    "    device_map=\"auto\",\n",
    "    max_memory={0: \"24GiB\", \"cpu\": \"30GiB\"},\n",
    "    quantization_config=bnb,\n",
    "    low_cpu_mem_usage=True\n",
    ")\n",
    "\n",
    "hf_tok = AutoTokenizer.from_pretrained(model_id)\n",
    "\n",
    "hf_gen = pipeline(\"text-generation\",\n",
    "               model=hf_model,\n",
    "               tokenizer=hf_tok,\n",
    "               max_new_tokens=120,\n",
    "               do_sample=False)"
   ]
  },
  {
   "cell_type": "code",
   "execution_count": null,
   "id": "5415b7ff",
   "metadata": {},
   "outputs": [],
   "source": [
    "sample = dict(\n",
    "    product_name=\"EverCool Water Bottle\",\n",
    "    Product_attribute_list=\"double-wall vacuum insulation; keeps drinks cold 24 h; leak-proof lid\",\n",
    "    material=\"stainless steel\",\n",
    "    warranty=\"lifetime warranty\",\n",
    ")\n",
    "\n",
    "print(hf_gen(prompt_tmpl.format(**sample),\n",
    "          return_full_text=False)[0][\"generated_text\"])"
   ]
  },
  {
   "cell_type": "code",
   "execution_count": null,
   "id": "60f09463",
   "metadata": {},
   "outputs": [],
   "source": [
    "# --- Option A: Hugging Face ---\n",
    "# Ensure you implemented call_hf() in another cell (you can use the one from the previous assignment).\n",
    "\n",
    "# Example with HF pipeline\n",
    "def call_hf(prompt: str, model_id: str = \"mistralai/Mistral-7B-Instruct-v0.3\"):\n",
    "    \"\"\"Return dict with latency & token counts for HF pipeline.\"\"\"\n",
    "    # tokenizer = AutoTokenizer.from_pretrained(model_id)\n",
    "    # model = AutoModelForCausalLM.from_pretrained(model_id, device_map=\"auto\", load_in_8bit=True)\n",
    "    # generator = pipeline(\"text-generation\", model=model, tokenizer=tokenizer, max_new_tokens=120)\n",
    "\n",
    "    import time\n",
    "    start = time.time()\n",
    "    res= hf_gen(prompt,\n",
    "          return_full_text=False)[0][\"generated_text\"]\n",
    "\n",
    "    latency = (time.time() - start) * 1000  # ms\n",
    "    # token counts via tokenizer\n",
    "    input_tokens = len(hf_tok.encode(prompt))\n",
    "    output_tokens = len(hf_tok.encode(res))\n",
    "    return {\n",
    "        \"text\": res,\n",
    "        \"latency_ms\": latency,\n",
    "        \"input_tokens\": input_tokens,\n",
    "        \"output_tokens\": output_tokens,\n",
    "    }\n",
    "\n",
    "response_hf = call_hf(prompt_tmpl.format(**sample))\n",
    "print(response_hf)"
   ]
  },
  {
   "cell_type": "code",
   "execution_count": null,
   "id": "a69bcdc3",
   "metadata": {},
   "outputs": [],
   "source": [
    "# --- Option B: OpenAI ---\n",
    "# Ensure you implemented call_openai() in another cell (you can use the one from the previous assignment).\n",
    "# from your_utils import call_openai  # example import if needed\n",
    "# response_oai = call_openai(prompt, model_name=\"gpt-4o\")\n",
    "# print(response_oai)"
   ]
  },
  {
   "cell_type": "code",
   "execution_count": null,
   "id": "69cc3142",
   "metadata": {},
   "outputs": [],
   "source": [
    "# --- Option C: Gemini ---\n",
    "# Ensure you implemented call_gemini() in another cell (you can use the one from the previous assignment).\n",
    "# response_gemini = call_gemini(prompt, model_name=\"gemini-1.5-pro\")\n",
    "# print(response_gemini)"
   ]
  },
  {
   "cell_type": "code",
   "execution_count": null,
   "id": "99d8f2e5",
   "metadata": {},
   "outputs": [],
   "source": [
    "# --- Batch generation helper (type‑safe) ---\n",
    "from typing import Callable\n",
    "import pandas as pd\n",
    "\n",
    "from typing import Callable, Dict\n",
    "import pandas as pd\n",
    "\n",
    "def batch_generate(\n",
    "    sample_df: pd.DataFrame,\n",
    "    call_model_fn: Callable[[str], Dict[str, object]],\n",
    "    prompt_template: str = prompt_tmpl,\n",
    ") -> pd.DataFrame:\n",
    "    \"\"\"Generate descriptions and metrics for each row in *sample_df*.\n",
    "\n",
    "    The model-calling function *must* return a dict with keys:\n",
    "    - ``text`` (str) – generated description\n",
    "    - ``latency_ms`` (float | None)\n",
    "    - ``input_tokens`` (int | None)\n",
    "    - ``output_tokens`` (int | None)\n",
    "    \"\"\"\n",
    "    if not isinstance(sample_df, pd.DataFrame):\n",
    "        raise TypeError(\"sample_df must be a pandas DataFrame\")\n",
    "    if not callable(call_model_fn):\n",
    "        raise TypeError(\"call_model_fn must be callable\")\n",
    "\n",
    "    outputs = []\n",
    "    for _, row in sample_df.iterrows():\n",
    "        prompt = prompt_template.format(**row.to_dict())\n",
    "        out = call_model_fn(prompt)\n",
    "        if not isinstance(out, dict) or 'text' not in out:\n",
    "            raise ValueError(\"call_model_fn must return a dict with at least a 'text' field\")\n",
    "        outputs.append(out)\n",
    "\n",
    "    result_df = sample_df.copy()\n",
    "    result_df[\"generated_description\"] = [o[\"text\"] for o in outputs]\n",
    "    result_df[\"latency_ms\"] = [o.get(\"latency_ms\") for o in outputs]\n",
    "    result_df[\"input_tokens\"] = [o.get(\"input_tokens\") for o in outputs]\n",
    "    result_df[\"output_tokens\"] = [o.get(\"output_tokens\") for o in outputs]\n",
    "    return result_df\n",
    "\n",
    "\n",
    "demo_df = batch_generate(df_products[:5], call_hf)\n",
    "demo_df.head()"
   ]
  },
  {
   "cell_type": "markdown",
   "id": "87759e4a",
   "metadata": {},
   "source": [
    "## 6  Manual evaluation\n",
    "Use `batch_generate()` to create a DataFrame of model outputs, then add blank rating columns for each criterion plus a `final_score` column. An Excel file is saved so you can fill scores offline or share with peers.\n",
    "\n",
    "Steps:\n",
    "1. Run the code cell below (adjust which `call_*` function you pass in).\n",
    "2. Open the generated `assignment_03_evaluation_sheet.xlsx` and rate each row with **good / ok / bad**.\n",
    "3. Add a rule for `final_score` (e.g., majority = good, fails if grounding = bad).\n",
    "\n",
    "\n",
    "**Cost calculator**\n",
    "Use the helper below to compute cost in USD based on token usage:\n",
    "```python\n",
    "outputs_df = add_cost_columns(outputs_df, input_price_per_m=1.5, output_price_per_m=2.0)\n",
    "```\n",
    "Set prices to **0** if you ran everything locally on Hugging Face."
   ]
  },
  {
   "cell_type": "code",
   "execution_count": null,
   "id": "7b271623",
   "metadata": {},
   "outputs": [],
   "source": [
    "# --- Cost computation helper ---\n",
    "def add_cost_columns(df, input_price_per_m: float, output_price_per_m: float):\n",
    "    \"\"\"Add cost columns based on token counts.\n",
    "    Args:\n",
    "        df: DataFrame with `input_tokens` and `output_tokens`.\n",
    "        input_price_per_m: $ per 1M input tokens.\n",
    "        output_price_per_m: $ per 1M output tokens.\n",
    "    Returns: DataFrame with extra `cost_usd` column.\n",
    "    \"\"\"\n",
    "    if 'input_tokens' not in df or 'output_tokens' not in df:\n",
    "        raise ValueError('Token columns missing; run batch_generate first')\n",
    "    cost_input = df['input_tokens'] * (input_price_per_m / 1000000)\n",
    "    cost_output = df['output_tokens'] * (output_price_per_m / 1000000)\n",
    "    df = df.copy()\n",
    "    df['cost_usd'] = (cost_input + cost_output).round(4)\n",
    "    return df\n",
    "\n",
    "# Example usage (set prices to 0 for HF local models):\n",
    "# outputs_df = add_cost_columns(outputs_df, 0, 0)\n",
    "# outputs_df.head()"
   ]
  },
  {
   "cell_type": "code",
   "execution_count": null,
   "id": "c66c1fb7",
   "metadata": {},
   "outputs": [],
   "source": [
    "# --- Build evaluation sheet & export to Excel ---\n",
    "\n",
    "#Update the prices according to the model you used, or leave them at 0 for HF local models\n",
    "YOUR_MODEL_INPUT_PRICE_PER_M = 0\n",
    "YOUR_MODEL_OUTPUT_PRICE_PER_M = 0\n",
    "outputs_df = batch_generate(df_products, call_hf)  # NOTE: change model function as needed\n",
    "\n",
    "# Add rating columns (good/ok/bad)\n",
    "rating_cols = [\"fluency\", \"grammar\", \"tone\", \"length\", \"grounding\", \"latency\", \"cost\", \"final_score\"]\n",
    "for col in rating_cols:\n",
    "    if col not in outputs_df:\n",
    "        outputs_df[col] = \"\"\n",
    "\n",
    "xlsx_path = \"assignment_03_evaluation_sheet.xlsx\"\n",
    "\n",
    "# Add cost columns\n",
    "outputs_df = add_cost_columns(outputs_df, YOUR_MODEL_INPUT_PRICE_PER_M, YOUR_MODEL_OUTPUT_PRICE_PER_M)\n",
    "\n",
    "outputs_df.to_excel(xlsx_path, index=False)\n",
    "print(f\"Saved evaluation sheet → {xlsx_path} with {len(outputs_df)} rows\")"
   ]
  },
  {
   "cell_type": "markdown",
   "id": "50b78ecd",
   "metadata": {},
   "source": [
    "## 7  Improvement cycle\n",
    "\n",
    "Now that you’ve established a baseline score in **Section 6**, iterate to achieve better results.\n",
    "\n",
    "**Ideas to explore**\n",
    "- **Prompt tuning** – rewrite the system/user prompts, add few‑shot examples, or enforce stricter constraints.\n",
    "- **Model choice** – test a different checkpoint (larger ≠ always better), switch from HF to OpenAI or Gemini, or try a domain‑specific model.\n",
    "- **Temperature / decoding params** – adjust `temperature`, `top_p`, `top_k`, or `max_new_tokens` to balance creativity vs. factuality.\n",
    "- **Data preprocessing** – clean attribute text, expand abbreviations, or group similar products to feed additional context.\n",
    "- **Post‑processing** – run grammar‑checking or length trimming after generation.\n",
    "- **Ensembling / RAG** – combine outputs from two models or ground the prompt with retrieved copy from existing catalog listings.\n",
    "\n",
    "Document each experiment in a brief bullet list:\n",
    "1. **What you changed**\n",
    "2. **Why you expected it to help**\n",
    "3. **New evaluation scores**\n",
    "\n",
    "💡 *Goal*: maximize the cumulative score according to your rubric while respecting the go/no‑go rules."
   ]
  },
  {
   "cell_type": "markdown",
   "id": "12ab376a",
   "metadata": {},
   "source": [
    "# Part 2 – Judging Language Models (JLMs)"
   ]
  }
 ],
 "metadata": {
  "kernelspec": {
   "display_name": "Python 3 (ipykernel)",
   "language": "python",
   "name": "python3"
  },
  "language_info": {
   "codemirror_mode": {
    "name": "ipython",
    "version": 3
   },
   "file_extension": ".py",
   "mimetype": "text/x-python",
   "name": "python",
   "nbconvert_exporter": "python",
   "pygments_lexer": "ipython3",
   "version": "3.9.6"
  }
 },
 "nbformat": 4,
 "nbformat_minor": 5
}
